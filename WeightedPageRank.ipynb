{
 "cells": [
  {
   "cell_type": "code",
   "execution_count": 1,
   "metadata": {},
   "outputs": [],
   "source": [
    "import numpy as np\n",
    "import pandas as pd"
   ]
  },
  {
   "cell_type": "code",
   "execution_count": 4,
   "metadata": {},
   "outputs": [],
   "source": [
    "dfMemes = pd.read_csv(\"Database.csv\", encoding='UTF-8',skip_blank_lines=False)\n",
    "\n",
    "\n",
    "subredditIndices = {}\n",
    "index = 0\n",
    "for subreddit in dfMemes[\"Subreddit\"].unique():\n",
    "    subredditIndices[subreddit] = index\n",
    "    subredditIndices[index] = subreddit\n",
    "    index += 1"
   ]
  },
  {
   "cell_type": "code",
   "execution_count": 5,
   "metadata": {},
   "outputs": [],
   "source": [
    "dfLinks = pd.read_csv('memeProject.csv', header=None, encoding='utf8')\n",
    "dfLinks.columns = ['i','j']\n",
    "\n",
    "adjacencyList = [[] for n in range(index)]\n",
    "\n",
    "for _, row in dfLinks.iterrows():\n",
    "    subredditI = row[\"i\"]\n",
    "    subredditJ = row['j']\n",
    "    i = subredditIndices[subredditI]\n",
    "    j = subredditIndices[subredditJ]\n",
    "    \n",
    "    #links are bidirectional \n",
    "    #multiple links in memeProject.csv are added multiple times so they are counted later\n",
    "    adjacencyList[j].append(i)\n",
    "    adjacencyList[i].append(j)"
   ]
  },
  {
   "cell_type": "code",
   "execution_count": 8,
   "metadata": {},
   "outputs": [],
   "source": [
    "from matplotlib.pyplot import figure\n",
    "\n",
    "pd.set_option('display.max_rows', 500)\n",
    "\n",
    "def stochasticMatrix(adjacency_list):\n",
    "    n = len(adjacency_list)\n",
    "    matrix = np.zeros((n, n))\n",
    "    for col, line in enumerate(adjacency_list):\n",
    "        if len(line) > 0:\n",
    "              #page has existing links\n",
    "            for index in line:\n",
    "                \n",
    "                matrix[index][col] += 1/(len(line)) #add a portion of the final weight\n",
    "        else:\n",
    "            #page not found\n",
    "            for index in range(n):\n",
    "                matrix[index][col] = 1/n\n",
    "    return matrix\n",
    "\n",
    "#transitionMatrix = (1-beta)/n * m + beta*stochasitcMatrix\n",
    "def transitionMatrix(stochastic_matrix):\n",
    "    n = len(stochastic_matrix)\n",
    "    beta = 0.85 #teleportation factor\n",
    "    m = np.ones((n, n)) #matrix of 1's\n",
    "    part1 = np.multiply(((1-beta)/n), m)\n",
    "    part2 = np.multiply(beta, stochastic_matrix)\n",
    "    transition_matrix = np.add(part1, part2)\n",
    "    return transition_matrix\n",
    "\n",
    "def pageRank(transition_matrix):\n",
    "    n = len(transition_matrix)\n",
    "    err = 0.0005 \n",
    "    v1 = np.ones(n)\n",
    "    v1 = np.multiply((1/n), v1)\n",
    "    v2 = np.matmul(transition_matrix, v1)\n",
    "    \n",
    "    while not within_err(v1, v2, err): \n",
    "        #ensures differences between v1 and v2 is under the err bound\n",
    "        v1 = v2\n",
    "        v2 = np.matmul(transition_matrix, v1)\n",
    "    return (v2.tolist())\n",
    "\n",
    "def within_err(v1, v2, err):\n",
    "    diff_vector = np.subtract(v2, v1)\n",
    "    for diff in diff_vector:\n",
    "        if abs(diff) > err:\n",
    "            return False\n",
    "    return True\n",
    "\n",
    "\n",
    "m = stochasticMatrix(adjacencyList)\n",
    "\n",
    "\n",
    "t = transitionMatrix(m)\n",
    "\n",
    "\n",
    "p = pageRank(t)\n",
    "\n",
    "\n",
    "N = 10\n",
    "#Return index values(company ids) for the 10 highest page ranks\n",
    "topSubredditID = sorted(range(len(p)), key = lambda sub: p[sub])[-N:]\n",
    "\n",
    "topSubreddits = [subredditIndices[subredditID] for subredditID in topSubredditID]\n",
    "\n",
    "\n",
    "\n"
   ]
  },
  {
   "cell_type": "code",
   "execution_count": null,
   "metadata": {},
   "outputs": [],
   "source": []
  }
 ],
 "metadata": {
  "kernelspec": {
   "display_name": "Python 3",
   "language": "python",
   "name": "python3"
  },
  "language_info": {
   "codemirror_mode": {
    "name": "ipython",
    "version": 3
   },
   "file_extension": ".py",
   "mimetype": "text/x-python",
   "name": "python",
   "nbconvert_exporter": "python",
   "pygments_lexer": "ipython3",
   "version": "3.7.7"
  }
 },
 "nbformat": 4,
 "nbformat_minor": 4
}
